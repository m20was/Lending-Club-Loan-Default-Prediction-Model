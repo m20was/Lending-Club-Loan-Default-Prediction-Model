{
 "cells": [
  {
   "cell_type": "code",
   "execution_count": 1,
   "id": "54d2db1c",
   "metadata": {
    "_cell_guid": "b1076dfc-b9ad-4769-8c92-a6c4dae69d19",
    "_uuid": "8f2839f25d086af736a60e9eeb907d3b93b6e0e5",
    "execution": {
     "iopub.execute_input": "2023-08-26T07:29:34.271588Z",
     "iopub.status.busy": "2023-08-26T07:29:34.271192Z",
     "iopub.status.idle": "2023-08-26T07:30:27.484447Z",
     "shell.execute_reply": "2023-08-26T07:30:27.483230Z"
    },
    "papermill": {
     "duration": 53.233516,
     "end_time": "2023-08-26T07:30:27.487488",
     "exception": false,
     "start_time": "2023-08-26T07:29:34.253972",
     "status": "completed"
    },
    "tags": []
   },
   "outputs": [
    {
     "name": "stdout",
     "output_type": "stream",
     "text": [
      "Collecting pyspark\r\n",
      "  Downloading pyspark-3.4.1.tar.gz (310.8 MB)\r\n",
      "\u001b[2K     \u001b[90m━━━━━━━━━━━━━━━━━━━━━━━━━━━━━━━━━━━━━━━\u001b[0m \u001b[32m310.8/310.8 MB\u001b[0m \u001b[31m3.3 MB/s\u001b[0m eta \u001b[36m0:00:00\u001b[0m\r\n",
      "\u001b[?25h  Preparing metadata (setup.py) ... \u001b[?25l-\b \b\\\b \b|\b \bdone\r\n",
      "\u001b[?25hRequirement already satisfied: py4j==0.10.9.7 in /opt/conda/lib/python3.10/site-packages (from pyspark) (0.10.9.7)\r\n",
      "Building wheels for collected packages: pyspark\r\n",
      "  Building wheel for pyspark (setup.py) ... \u001b[?25l-\b \b\\\b \b|\b \b/\b \b-\b \b\\\b \b|\b \b/\b \b-\b \b\\\b \b|\b \b/\b \b-\b \b\\\b \b|\b \bdone\r\n",
      "\u001b[?25h  Created wheel for pyspark: filename=pyspark-3.4.1-py2.py3-none-any.whl size=311285413 sha256=0bf7148fd2ebb368047dd61914d37978bc81a989ca70e554b4f7556a16b15876\r\n",
      "  Stored in directory: /root/.cache/pip/wheels/0d/77/a3/ff2f74cc9ab41f8f594dabf0579c2a7c6de920d584206e0834\r\n",
      "Successfully built pyspark\r\n",
      "Installing collected packages: pyspark\r\n",
      "Successfully installed pyspark-3.4.1\r\n"
     ]
    }
   ],
   "source": [
    "!pip install pyspark"
   ]
  },
  {
   "cell_type": "code",
   "execution_count": 2,
   "id": "aab48266",
   "metadata": {
    "execution": {
     "iopub.execute_input": "2023-08-26T07:30:27.543530Z",
     "iopub.status.busy": "2023-08-26T07:30:27.543080Z",
     "iopub.status.idle": "2023-08-26T07:30:29.927653Z",
     "shell.execute_reply": "2023-08-26T07:30:29.926537Z"
    },
    "papermill": {
     "duration": 2.415838,
     "end_time": "2023-08-26T07:30:29.930319",
     "exception": false,
     "start_time": "2023-08-26T07:30:27.514481",
     "status": "completed"
    },
    "tags": []
   },
   "outputs": [
    {
     "name": "stderr",
     "output_type": "stream",
     "text": [
      "/opt/conda/lib/python3.10/site-packages/scipy/__init__.py:146: UserWarning: A NumPy version >=1.16.5 and <1.23.0 is required for this version of SciPy (detected version 1.23.5\n",
      "  warnings.warn(f\"A NumPy version >={np_minversion} and <{np_maxversion}\"\n"
     ]
    }
   ],
   "source": [
    "import pandas as pd\n",
    "import numpy as np\n",
    "import matplotlib.pyplot as plt\n",
    "\n",
    "from pyspark.sql import SparkSession\n",
    "from pyspark.sql.functions import col, isnan, when, count, regexp_extract\n",
    "from pyspark.ml.feature import StringIndexer, OneHotEncoder\n",
    "from pyspark.ml.feature import VectorAssembler\n",
    "from pyspark.sql import DataFrame\n",
    "from pyspark.ml.feature import MinMaxScaler\n",
    "\n",
    "from pyspark.ml.evaluation import MulticlassClassificationEvaluator\n",
    "from pyspark.ml.classification import LogisticRegression\n",
    "from pyspark.ml.classification import  RandomForestClassifier\n",
    "from pyspark.ml.classification import MultilayerPerceptronClassifier\n",
    "\n",
    "import warnings\n",
    "warnings.simplefilter(action='ignore', category=FutureWarning)"
   ]
  },
  {
   "cell_type": "markdown",
   "id": "a57e567a",
   "metadata": {
    "papermill": {
     "duration": 0.029726,
     "end_time": "2023-08-26T07:30:29.987372",
     "exception": false,
     "start_time": "2023-08-26T07:30:29.957646",
     "status": "completed"
    },
    "tags": []
   },
   "source": [
    "# Functions"
   ]
  },
  {
   "cell_type": "code",
   "execution_count": 3,
   "id": "d0dad38d",
   "metadata": {
    "execution": {
     "iopub.execute_input": "2023-08-26T07:30:30.044524Z",
     "iopub.status.busy": "2023-08-26T07:30:30.043992Z",
     "iopub.status.idle": "2023-08-26T07:30:30.059067Z",
     "shell.execute_reply": "2023-08-26T07:30:30.057895Z"
    },
    "papermill": {
     "duration": 0.046736,
     "end_time": "2023-08-26T07:30:30.062059",
     "exception": false,
     "start_time": "2023-08-26T07:30:30.015323",
     "status": "completed"
    },
    "tags": []
   },
   "outputs": [],
   "source": [
    "def one_hot_encode_column(df, input_col):\n",
    "    indexer = StringIndexer(inputCol=input_col, outputCol=input_col + '_indexed')\n",
    "    indexed_df = indexer.fit(df).transform(df)\n",
    "\n",
    "    encoder = OneHotEncoder(inputCol=input_col + '_indexed', outputCol=input_col + '_encoded')\n",
    "    encoded_df = encoder.fit(indexed_df).transform(indexed_df)\n",
    "\n",
    "    encoded_df = encoded_df.drop(input_col, input_col + '_indexed')\n",
    "\n",
    "    return encoded_df\n",
    "\n",
    "def scale_features(input_df: DataFrame, input_col: str, output_col: str) -> DataFrame:\n",
    "    \"\"\"\n",
    "    Scale the specified feature column using Min-Max Scaling.\n",
    "\n",
    "    Args:\n",
    "        input_df (DataFrame): The input DataFrame.\n",
    "        input_col (str): The name of the feature column to scale.\n",
    "        output_col (str): The name of the output scaled feature column.\n",
    "\n",
    "    Returns:\n",
    "        DataFrame: The DataFrame with the scaled feature column.\n",
    "    \"\"\"\n",
    "    scaler = MinMaxScaler(inputCol=input_col, outputCol=output_col)\n",
    "    scaler_model = scaler.fit(input_df)\n",
    "    scaled_df = scaler_model.transform(input_df)\n",
    "    return scaled_df\n",
    "\n",
    "def evaluate_model(model, model_name, train_data, validation_data, test_data):\n",
    "    model = model.fit(train_data)\n",
    "\n",
    "    predictions_train = model.transform(train_data)\n",
    "    predictions_validation = model.transform(validation_data)\n",
    "    predictions_test = model.transform(test_data)\n",
    "\n",
    "    evaluator_accuracy = MulticlassClassificationEvaluator(labelCol=\"target\", predictionCol=\"prediction\", metricName=\"accuracy\")\n",
    "    f1_evaluator = MulticlassClassificationEvaluator(metricName=\"weightedFMeasure\", labelCol=\"target\")\n",
    "\n",
    "    accuracy_train = evaluator_accuracy.evaluate(predictions_train)\n",
    "    f1_score_train = f1_evaluator.evaluate(predictions_train)\n",
    "\n",
    "    accuracy_validation = evaluator_accuracy.evaluate(predictions_validation)\n",
    "    f1_score_validation = f1_evaluator.evaluate(predictions_validation)\n",
    "\n",
    "    accuracy_test = evaluator_accuracy.evaluate(predictions_test)\n",
    "    f1_score_test = f1_evaluator.evaluate(predictions_test)\n",
    "\n",
    "    results_df = pd.DataFrame({\n",
    "    \"Model\": [model_name],\n",
    "    \"Accuracy (Train)\": [round(accuracy_train, 3)],\n",
    "    \"F1 Score (Train)\": [round(f1_score_train, 3)],\n",
    "    \"Accuracy (Validation)\": [round(accuracy_validation, 3)],\n",
    "    \"F1 Score (Validation)\": [round(f1_score_validation, 3)],\n",
    "    \"Accuracy (Test)\": [round(accuracy_test, 3)],\n",
    "    \"F1 Score (Test)\": [round(f1_score_test, 3)],\n",
    "    })\n",
    "\n",
    "    return results_df"
   ]
  },
  {
   "cell_type": "markdown",
   "id": "1ede13f8",
   "metadata": {
    "papermill": {
     "duration": 0.026559,
     "end_time": "2023-08-26T07:30:30.116124",
     "exception": false,
     "start_time": "2023-08-26T07:30:30.089565",
     "status": "completed"
    },
    "tags": []
   },
   "source": [
    "# Upload dataset"
   ]
  },
  {
   "cell_type": "code",
   "execution_count": 4,
   "id": "2da0c2f8",
   "metadata": {
    "execution": {
     "iopub.execute_input": "2023-08-26T07:30:30.172589Z",
     "iopub.status.busy": "2023-08-26T07:30:30.172179Z",
     "iopub.status.idle": "2023-08-26T07:30:36.275544Z",
     "shell.execute_reply": "2023-08-26T07:30:36.273984Z"
    },
    "papermill": {
     "duration": 6.13468,
     "end_time": "2023-08-26T07:30:36.278620",
     "exception": false,
     "start_time": "2023-08-26T07:30:30.143940",
     "status": "completed"
    },
    "tags": []
   },
   "outputs": [
    {
     "name": "stderr",
     "output_type": "stream",
     "text": [
      "Setting default log level to \"WARN\".\n",
      "To adjust logging level use sc.setLogLevel(newLevel). For SparkR, use setLogLevel(newLevel).\n",
      "23/08/26 07:30:34 WARN NativeCodeLoader: Unable to load native-hadoop library for your platform... using builtin-java classes where applicable\n"
     ]
    }
   ],
   "source": [
    "spark = SparkSession.builder \\\n",
    "    .appName(\"lending-club\") \\\n",
    "    .getOrCreate()"
   ]
  },
  {
   "cell_type": "code",
   "execution_count": 5,
   "id": "f8decfa7",
   "metadata": {
    "execution": {
     "iopub.execute_input": "2023-08-26T07:30:36.337228Z",
     "iopub.status.busy": "2023-08-26T07:30:36.336355Z",
     "iopub.status.idle": "2023-08-26T07:30:44.339865Z",
     "shell.execute_reply": "2023-08-26T07:30:44.338609Z"
    },
    "papermill": {
     "duration": 8.035381,
     "end_time": "2023-08-26T07:30:44.342776",
     "exception": false,
     "start_time": "2023-08-26T07:30:36.307395",
     "status": "completed"
    },
    "tags": []
   },
   "outputs": [
    {
     "data": {
      "text/html": [
       "<div>\n",
       "<style scoped>\n",
       "    .dataframe tbody tr th:only-of-type {\n",
       "        vertical-align: middle;\n",
       "    }\n",
       "\n",
       "    .dataframe tbody tr th {\n",
       "        vertical-align: top;\n",
       "    }\n",
       "\n",
       "    .dataframe thead th {\n",
       "        text-align: right;\n",
       "    }\n",
       "</style>\n",
       "<table border=\"1\" class=\"dataframe\">\n",
       "  <thead>\n",
       "    <tr style=\"text-align: right;\">\n",
       "      <th></th>\n",
       "      <th>id</th>\n",
       "      <th>purpose</th>\n",
       "      <th>term</th>\n",
       "      <th>verification_status</th>\n",
       "      <th>acc_now_delinq</th>\n",
       "      <th>addr_state</th>\n",
       "      <th>annual_inc</th>\n",
       "      <th>application_type</th>\n",
       "      <th>dti</th>\n",
       "      <th>grade</th>\n",
       "      <th>...</th>\n",
       "      <th>int_rate</th>\n",
       "      <th>loan_amnt</th>\n",
       "      <th>loan_status</th>\n",
       "      <th>tax_liens</th>\n",
       "      <th>delinq_amnt</th>\n",
       "      <th>policy_code</th>\n",
       "      <th>last_fico_range_high</th>\n",
       "      <th>last_fico_range_low</th>\n",
       "      <th>recoveries</th>\n",
       "      <th>collection_recovery_fee</th>\n",
       "    </tr>\n",
       "  </thead>\n",
       "  <tbody>\n",
       "    <tr>\n",
       "      <th>0</th>\n",
       "      <td>68407277</td>\n",
       "      <td>debt_consolidation</td>\n",
       "      <td>36 months</td>\n",
       "      <td>Not Verified</td>\n",
       "      <td>0.0</td>\n",
       "      <td>PA</td>\n",
       "      <td>55000.0</td>\n",
       "      <td>Individual</td>\n",
       "      <td>5.91</td>\n",
       "      <td>C</td>\n",
       "      <td>...</td>\n",
       "      <td>13.99</td>\n",
       "      <td>3600.0</td>\n",
       "      <td>Fully Paid</td>\n",
       "      <td>0.0</td>\n",
       "      <td>0.0</td>\n",
       "      <td>1.0</td>\n",
       "      <td>564.0</td>\n",
       "      <td>560.0</td>\n",
       "      <td>0.0</td>\n",
       "      <td>0.0</td>\n",
       "    </tr>\n",
       "    <tr>\n",
       "      <th>1</th>\n",
       "      <td>68355089</td>\n",
       "      <td>small_business</td>\n",
       "      <td>36 months</td>\n",
       "      <td>Not Verified</td>\n",
       "      <td>0.0</td>\n",
       "      <td>SD</td>\n",
       "      <td>65000.0</td>\n",
       "      <td>Individual</td>\n",
       "      <td>16.06</td>\n",
       "      <td>C</td>\n",
       "      <td>...</td>\n",
       "      <td>11.99</td>\n",
       "      <td>24700.0</td>\n",
       "      <td>Fully Paid</td>\n",
       "      <td>0.0</td>\n",
       "      <td>0.0</td>\n",
       "      <td>1.0</td>\n",
       "      <td>699.0</td>\n",
       "      <td>695.0</td>\n",
       "      <td>0.0</td>\n",
       "      <td>0.0</td>\n",
       "    </tr>\n",
       "    <tr>\n",
       "      <th>2</th>\n",
       "      <td>68341763</td>\n",
       "      <td>home_improvement</td>\n",
       "      <td>60 months</td>\n",
       "      <td>Not Verified</td>\n",
       "      <td>0.0</td>\n",
       "      <td>IL</td>\n",
       "      <td>63000.0</td>\n",
       "      <td>Joint App</td>\n",
       "      <td>10.78</td>\n",
       "      <td>B</td>\n",
       "      <td>...</td>\n",
       "      <td>10.78</td>\n",
       "      <td>20000.0</td>\n",
       "      <td>Fully Paid</td>\n",
       "      <td>0.0</td>\n",
       "      <td>0.0</td>\n",
       "      <td>1.0</td>\n",
       "      <td>704.0</td>\n",
       "      <td>700.0</td>\n",
       "      <td>0.0</td>\n",
       "      <td>0.0</td>\n",
       "    </tr>\n",
       "    <tr>\n",
       "      <th>3</th>\n",
       "      <td>66310712</td>\n",
       "      <td>debt_consolidation</td>\n",
       "      <td>60 months</td>\n",
       "      <td>Source Verified</td>\n",
       "      <td>0.0</td>\n",
       "      <td>NJ</td>\n",
       "      <td>110000.0</td>\n",
       "      <td>Individual</td>\n",
       "      <td>17.06</td>\n",
       "      <td>C</td>\n",
       "      <td>...</td>\n",
       "      <td>14.85</td>\n",
       "      <td>35000.0</td>\n",
       "      <td>Current</td>\n",
       "      <td>0.0</td>\n",
       "      <td>0.0</td>\n",
       "      <td>1.0</td>\n",
       "      <td>679.0</td>\n",
       "      <td>675.0</td>\n",
       "      <td>0.0</td>\n",
       "      <td>0.0</td>\n",
       "    </tr>\n",
       "    <tr>\n",
       "      <th>4</th>\n",
       "      <td>68476807</td>\n",
       "      <td>major_purchase</td>\n",
       "      <td>60 months</td>\n",
       "      <td>Source Verified</td>\n",
       "      <td>0.0</td>\n",
       "      <td>PA</td>\n",
       "      <td>104433.0</td>\n",
       "      <td>Individual</td>\n",
       "      <td>25.37</td>\n",
       "      <td>F</td>\n",
       "      <td>...</td>\n",
       "      <td>22.45</td>\n",
       "      <td>10400.0</td>\n",
       "      <td>Fully Paid</td>\n",
       "      <td>0.0</td>\n",
       "      <td>0.0</td>\n",
       "      <td>1.0</td>\n",
       "      <td>704.0</td>\n",
       "      <td>700.0</td>\n",
       "      <td>0.0</td>\n",
       "      <td>0.0</td>\n",
       "    </tr>\n",
       "  </tbody>\n",
       "</table>\n",
       "<p>5 rows × 23 columns</p>\n",
       "</div>"
      ],
      "text/plain": [
       "         id             purpose        term verification_status  \\\n",
       "0  68407277  debt_consolidation   36 months        Not Verified   \n",
       "1  68355089      small_business   36 months        Not Verified   \n",
       "2  68341763    home_improvement   60 months        Not Verified   \n",
       "3  66310712  debt_consolidation   60 months     Source Verified   \n",
       "4  68476807      major_purchase   60 months     Source Verified   \n",
       "\n",
       "  acc_now_delinq addr_state annual_inc application_type    dti grade  ...  \\\n",
       "0            0.0         PA    55000.0       Individual   5.91     C  ...   \n",
       "1            0.0         SD    65000.0       Individual  16.06     C  ...   \n",
       "2            0.0         IL    63000.0        Joint App  10.78     B  ...   \n",
       "3            0.0         NJ   110000.0       Individual  17.06     C  ...   \n",
       "4            0.0         PA   104433.0       Individual  25.37     F  ...   \n",
       "\n",
       "  int_rate loan_amnt loan_status tax_liens delinq_amnt policy_code  \\\n",
       "0    13.99    3600.0  Fully Paid       0.0         0.0         1.0   \n",
       "1    11.99   24700.0  Fully Paid       0.0         0.0         1.0   \n",
       "2    10.78   20000.0  Fully Paid       0.0         0.0         1.0   \n",
       "3    14.85   35000.0     Current       0.0         0.0         1.0   \n",
       "4    22.45   10400.0  Fully Paid       0.0         0.0         1.0   \n",
       "\n",
       "  last_fico_range_high last_fico_range_low recoveries collection_recovery_fee  \n",
       "0                564.0               560.0        0.0                     0.0  \n",
       "1                699.0               695.0        0.0                     0.0  \n",
       "2                704.0               700.0        0.0                     0.0  \n",
       "3                679.0               675.0        0.0                     0.0  \n",
       "4                704.0               700.0        0.0                     0.0  \n",
       "\n",
       "[5 rows x 23 columns]"
      ]
     },
     "execution_count": 5,
     "metadata": {},
     "output_type": "execute_result"
    }
   ],
   "source": [
    "selected_columns = [\n",
    "    \"id\",\n",
    "    \"purpose\",\n",
    "    \"term\",\n",
    "    \"verification_status\",\n",
    "    \"acc_now_delinq\",\n",
    "    \"addr_state\",\n",
    "    \"annual_inc\",\n",
    "    \"application_type\",\n",
    "    \"dti\",\n",
    "    \"grade\",\n",
    "    \"home_ownership\",\n",
    "    \"initial_list_status\",\n",
    "    \"installment\",\n",
    "    \"int_rate\",\n",
    "    \"loan_amnt\",\n",
    "    \"loan_status\",\n",
    "    'tax_liens',\n",
    "    'delinq_amnt',\n",
    "    'policy_code',\n",
    "    'last_fico_range_high',\n",
    "    'last_fico_range_low',\n",
    "    'recoveries',\n",
    "    'collection_recovery_fee'\n",
    "\n",
    "]\n",
    "\n",
    "df = spark.read.csv('/kaggle/input/lending-club/accepted_2007_to_2018Q4.csv.gz', header=True).select(selected_columns)\n",
    "df.limit(5).toPandas()"
   ]
  },
  {
   "cell_type": "markdown",
   "id": "dc7d3aeb",
   "metadata": {
    "papermill": {
     "duration": 0.027489,
     "end_time": "2023-08-26T07:30:44.398117",
     "exception": false,
     "start_time": "2023-08-26T07:30:44.370628",
     "status": "completed"
    },
    "tags": []
   },
   "source": [
    "# EDA"
   ]
  },
  {
   "cell_type": "markdown",
   "id": "2b3de2fd",
   "metadata": {
    "papermill": {
     "duration": 0.027714,
     "end_time": "2023-08-26T07:30:44.453362",
     "exception": false,
     "start_time": "2023-08-26T07:30:44.425648",
     "status": "completed"
    },
    "tags": []
   },
   "source": [
    "## Missing Values"
   ]
  },
  {
   "cell_type": "code",
   "execution_count": 6,
   "id": "29fdcef1",
   "metadata": {
    "execution": {
     "iopub.execute_input": "2023-08-26T07:30:44.510483Z",
     "iopub.status.busy": "2023-08-26T07:30:44.510080Z",
     "iopub.status.idle": "2023-08-26T07:32:28.382056Z",
     "shell.execute_reply": "2023-08-26T07:32:28.380876Z"
    },
    "papermill": {
     "duration": 103.936985,
     "end_time": "2023-08-26T07:32:28.418117",
     "exception": false,
     "start_time": "2023-08-26T07:30:44.481132",
     "status": "completed"
    },
    "tags": []
   },
   "outputs": [
    {
     "name": "stderr",
     "output_type": "stream",
     "text": [
      "[Stage 2:>                                                          (0 + 1) / 1]\r"
     ]
    },
    {
     "name": "stdout",
     "output_type": "stream",
     "text": [
      "+---+-------+----+-------------------+--------------+----------+----------+----------------+----+-----+--------------+-------------------+-----------+--------+---------+-----------+---------+-----------+-----------+--------------------+-------------------+----------+-----------------------+\n",
      "| id|purpose|term|verification_status|acc_now_delinq|addr_state|annual_inc|application_type| dti|grade|home_ownership|initial_list_status|installment|int_rate|loan_amnt|loan_status|tax_liens|delinq_amnt|policy_code|last_fico_range_high|last_fico_range_low|recoveries|collection_recovery_fee|\n",
      "+---+-------+----+-------------------+--------------+----------+----------+----------------+----+-----+--------------+-------------------+-----------+--------+---------+-----------+---------+-----------+-----------+--------------------+-------------------+----------+-----------------------+\n",
      "|  0|     34|  33|                 33|           221|        34|        37|              88|1745|   33|            33|                 50|         33|      33|       33|         33|      338|        258|         99|                  76|                 68|        35|                     39|\n",
      "+---+-------+----+-------------------+--------------+----------+----------+----------------+----+-----+--------------+-------------------+-----------+--------+---------+-----------+---------+-----------+-----------+--------------------+-------------------+----------+-----------------------+\n",
      "\n"
     ]
    },
    {
     "name": "stderr",
     "output_type": "stream",
     "text": [
      "                                                                                \r"
     ]
    }
   ],
   "source": [
    "null_counts = df.agg(*[count(when(isnan(c) | col(c).isNull(), c)).alias(c) for c in df.columns])\n",
    "null_counts.show()"
   ]
  },
  {
   "cell_type": "code",
   "execution_count": 7,
   "id": "674d49f5",
   "metadata": {
    "execution": {
     "iopub.execute_input": "2023-08-26T07:32:28.477454Z",
     "iopub.status.busy": "2023-08-26T07:32:28.476996Z",
     "iopub.status.idle": "2023-08-26T07:32:28.512430Z",
     "shell.execute_reply": "2023-08-26T07:32:28.510884Z"
    },
    "papermill": {
     "duration": 0.068352,
     "end_time": "2023-08-26T07:32:28.515633",
     "exception": false,
     "start_time": "2023-08-26T07:32:28.447281",
     "status": "completed"
    },
    "tags": []
   },
   "outputs": [],
   "source": [
    "df = df.na.drop()"
   ]
  },
  {
   "cell_type": "markdown",
   "id": "50314508",
   "metadata": {
    "papermill": {
     "duration": 0.02761,
     "end_time": "2023-08-26T07:32:28.571641",
     "exception": false,
     "start_time": "2023-08-26T07:32:28.544031",
     "status": "completed"
    },
    "tags": []
   },
   "source": [
    "## 'purpose'"
   ]
  },
  {
   "cell_type": "code",
   "execution_count": 8,
   "id": "f256bd6a",
   "metadata": {
    "execution": {
     "iopub.execute_input": "2023-08-26T07:32:28.629103Z",
     "iopub.status.busy": "2023-08-26T07:32:28.628699Z",
     "iopub.status.idle": "2023-08-26T07:33:01.671577Z",
     "shell.execute_reply": "2023-08-26T07:33:01.670234Z"
    },
    "papermill": {
     "duration": 33.115614,
     "end_time": "2023-08-26T07:33:01.714983",
     "exception": false,
     "start_time": "2023-08-26T07:32:28.599369",
     "status": "completed"
    },
    "tags": []
   },
   "outputs": [
    {
     "name": "stderr",
     "output_type": "stream",
     "text": [
      "[Stage 5:>                                                          (0 + 1) / 1]\r"
     ]
    },
    {
     "name": "stdout",
     "output_type": "stream",
     "text": [
      "+------------------+-------+\n",
      "|           purpose|  count|\n",
      "+------------------+-------+\n",
      "|           wedding|   2351|\n",
      "|       educational|    404|\n",
      "|             other| 139270|\n",
      "|    small_business|  24638|\n",
      "|debt_consolidation|1276774|\n",
      "|       credit_card| 516570|\n",
      "|            moving|  15369|\n",
      "|          vacation|  15518|\n",
      "|  renewable_energy|   1444|\n",
      "|             house|  14119|\n",
      "|               car|  23996|\n",
      "|    major_purchase|  50400|\n",
      "|           medical|  27453|\n",
      "|  home_improvement| 150290|\n",
      "+------------------+-------+\n",
      "\n"
     ]
    },
    {
     "name": "stderr",
     "output_type": "stream",
     "text": [
      "                                                                                \r"
     ]
    }
   ],
   "source": [
    "df_with_count = df.groupBy('purpose').count()\n",
    "df_with_count.show()"
   ]
  },
  {
   "cell_type": "code",
   "execution_count": 9,
   "id": "82a36e51",
   "metadata": {
    "execution": {
     "iopub.execute_input": "2023-08-26T07:33:01.800556Z",
     "iopub.status.busy": "2023-08-26T07:33:01.799988Z",
     "iopub.status.idle": "2023-08-26T07:33:01.956717Z",
     "shell.execute_reply": "2023-08-26T07:33:01.955562Z"
    },
    "papermill": {
     "duration": 0.204473,
     "end_time": "2023-08-26T07:33:01.960745",
     "exception": false,
     "start_time": "2023-08-26T07:33:01.756272",
     "status": "completed"
    },
    "tags": []
   },
   "outputs": [],
   "source": [
    "# Replacing values in the 'purpose' column based on the 'count' column condition\n",
    "# If 'count' is less than 300, set 'purpose' to \"other\", else keep the original 'purpose'\n",
    "\n",
    "df = df\\\n",
    ".join(df_with_count, on='purpose', how='left')\\\n",
    ".withColumn(\"purpose\", when(col(\"count\") < 300, \"other\").otherwise(col(\"purpose\")))\\\n",
    ".drop('count')"
   ]
  },
  {
   "cell_type": "code",
   "execution_count": 10,
   "id": "324eb746",
   "metadata": {
    "execution": {
     "iopub.execute_input": "2023-08-26T07:33:02.044901Z",
     "iopub.status.busy": "2023-08-26T07:33:02.044405Z",
     "iopub.status.idle": "2023-08-26T07:34:08.372778Z",
     "shell.execute_reply": "2023-08-26T07:34:08.371616Z"
    },
    "papermill": {
     "duration": 66.41914,
     "end_time": "2023-08-26T07:34:08.420720",
     "exception": false,
     "start_time": "2023-08-26T07:33:02.001580",
     "status": "completed"
    },
    "tags": []
   },
   "outputs": [
    {
     "name": "stderr",
     "output_type": "stream",
     "text": [
      "[Stage 11:>                                                         (0 + 1) / 1]\r"
     ]
    },
    {
     "name": "stdout",
     "output_type": "stream",
     "text": [
      "+------------------+\n",
      "|           purpose|\n",
      "+------------------+\n",
      "|           wedding|\n",
      "|       educational|\n",
      "|             other|\n",
      "|    small_business|\n",
      "|debt_consolidation|\n",
      "|       credit_card|\n",
      "|            moving|\n",
      "|          vacation|\n",
      "|  renewable_energy|\n",
      "|             house|\n",
      "|               car|\n",
      "|    major_purchase|\n",
      "|           medical|\n",
      "|  home_improvement|\n",
      "+------------------+\n",
      "\n"
     ]
    },
    {
     "name": "stderr",
     "output_type": "stream",
     "text": [
      "                                                                                \r"
     ]
    }
   ],
   "source": [
    "unique_purposes = df.select(\"purpose\").distinct()\n",
    "unique_purposes.show()"
   ]
  },
  {
   "cell_type": "markdown",
   "id": "ca77d0e3",
   "metadata": {
    "papermill": {
     "duration": 0.043619,
     "end_time": "2023-08-26T07:34:08.506723",
     "exception": false,
     "start_time": "2023-08-26T07:34:08.463104",
     "status": "completed"
    },
    "tags": []
   },
   "source": [
    "## 'term'"
   ]
  },
  {
   "cell_type": "code",
   "execution_count": 11,
   "id": "4c4cee72",
   "metadata": {
    "execution": {
     "iopub.execute_input": "2023-08-26T07:34:08.592437Z",
     "iopub.status.busy": "2023-08-26T07:34:08.591988Z",
     "iopub.status.idle": "2023-08-26T07:34:41.251109Z",
     "shell.execute_reply": "2023-08-26T07:34:41.249969Z"
    },
    "papermill": {
     "duration": 32.749692,
     "end_time": "2023-08-26T07:34:41.299394",
     "exception": false,
     "start_time": "2023-08-26T07:34:08.549702",
     "status": "completed"
    },
    "tags": []
   },
   "outputs": [
    {
     "name": "stderr",
     "output_type": "stream",
     "text": [
      "[Stage 14:>                                                         (0 + 1) / 1]\r"
     ]
    },
    {
     "name": "stdout",
     "output_type": "stream",
     "text": [
      "+----------+-------+\n",
      "|      term|  count|\n",
      "+----------+-------+\n",
      "| 36 months|1608405|\n",
      "| 60 months| 650191|\n",
      "+----------+-------+\n",
      "\n"
     ]
    },
    {
     "name": "stderr",
     "output_type": "stream",
     "text": [
      "                                                                                \r"
     ]
    }
   ],
   "source": [
    "df.groupby('term').count()\\\n",
    ".show()"
   ]
  },
  {
   "cell_type": "code",
   "execution_count": 12,
   "id": "a625e374",
   "metadata": {
    "execution": {
     "iopub.execute_input": "2023-08-26T07:34:41.386905Z",
     "iopub.status.busy": "2023-08-26T07:34:41.386031Z",
     "iopub.status.idle": "2023-08-26T07:34:41.422081Z",
     "shell.execute_reply": "2023-08-26T07:34:41.420875Z"
    },
    "papermill": {
     "duration": 0.083452,
     "end_time": "2023-08-26T07:34:41.425439",
     "exception": false,
     "start_time": "2023-08-26T07:34:41.341987",
     "status": "completed"
    },
    "tags": []
   },
   "outputs": [],
   "source": [
    "# Applying a regular expression to extract numbers from the 'term' column and then casting it to the Integer data type.\n",
    "\n",
    "df = df\\\n",
    ".withColumn(\"term\", regexp_extract(col(\"term\"), r'(\\d+)', 0).cast(\"int\"))"
   ]
  },
  {
   "cell_type": "markdown",
   "id": "4c9dbe39",
   "metadata": {
    "papermill": {
     "duration": 0.041322,
     "end_time": "2023-08-26T07:34:41.511922",
     "exception": false,
     "start_time": "2023-08-26T07:34:41.470600",
     "status": "completed"
    },
    "tags": []
   },
   "source": [
    "## 'verification_status'"
   ]
  },
  {
   "cell_type": "code",
   "execution_count": 13,
   "id": "4884b44c",
   "metadata": {
    "execution": {
     "iopub.execute_input": "2023-08-26T07:34:41.599521Z",
     "iopub.status.busy": "2023-08-26T07:34:41.598648Z",
     "iopub.status.idle": "2023-08-26T07:35:14.144668Z",
     "shell.execute_reply": "2023-08-26T07:35:14.143522Z"
    },
    "papermill": {
     "duration": 32.626997,
     "end_time": "2023-08-26T07:35:14.180799",
     "exception": false,
     "start_time": "2023-08-26T07:34:41.553802",
     "status": "completed"
    },
    "tags": []
   },
   "outputs": [
    {
     "name": "stderr",
     "output_type": "stream",
     "text": [
      "[Stage 17:>                                                         (0 + 1) / 1]\r"
     ]
    },
    {
     "name": "stdout",
     "output_type": "stream",
     "text": [
      "+-------------------+------+\n",
      "|verification_status| count|\n",
      "+-------------------+------+\n",
      "|           Verified|629395|\n",
      "|    Source Verified|886141|\n",
      "|       Not Verified|743060|\n",
      "+-------------------+------+\n",
      "\n"
     ]
    },
    {
     "name": "stderr",
     "output_type": "stream",
     "text": [
      "                                                                                \r"
     ]
    }
   ],
   "source": [
    "df.groupby('verification_status').count()\\\n",
    ".show()"
   ]
  },
  {
   "cell_type": "code",
   "execution_count": 14,
   "id": "56bc2afa",
   "metadata": {
    "execution": {
     "iopub.execute_input": "2023-08-26T07:35:14.242233Z",
     "iopub.status.busy": "2023-08-26T07:35:14.241681Z",
     "iopub.status.idle": "2023-08-26T07:35:14.306605Z",
     "shell.execute_reply": "2023-08-26T07:35:14.305420Z"
    },
    "papermill": {
     "duration": 0.099723,
     "end_time": "2023-08-26T07:35:14.310212",
     "exception": false,
     "start_time": "2023-08-26T07:35:14.210489",
     "status": "completed"
    },
    "tags": []
   },
   "outputs": [],
   "source": [
    "# Encode 'verification_status' column values into a new column 'verification_status_encoded'\n",
    "# If 'verification_status' is either \"Verified\" or \"Source Verified\", set 'verification_status_encoded' to 0\n",
    "# Otherwise, set it to 1\n",
    "\n",
    "df = df\\\n",
    ".withColumn(\"verification_status_encoded\",\n",
    "            when(col(\"verification_status\")\n",
    "                 .isin([\"Verified\", \"Source Verified\"]),0)\n",
    "            .otherwise(1))\\\n",
    ".drop(\"verification_status\")"
   ]
  },
  {
   "cell_type": "markdown",
   "id": "a0aac704",
   "metadata": {
    "papermill": {
     "duration": 0.04348,
     "end_time": "2023-08-26T07:35:14.397461",
     "exception": false,
     "start_time": "2023-08-26T07:35:14.353981",
     "status": "completed"
    },
    "tags": []
   },
   "source": [
    "## 'acc_now_delinq'"
   ]
  },
  {
   "cell_type": "code",
   "execution_count": 15,
   "id": "f84e3755",
   "metadata": {
    "execution": {
     "iopub.execute_input": "2023-08-26T07:35:14.466244Z",
     "iopub.status.busy": "2023-08-26T07:35:14.465315Z",
     "iopub.status.idle": "2023-08-26T07:35:46.909454Z",
     "shell.execute_reply": "2023-08-26T07:35:46.908238Z"
    },
    "papermill": {
     "duration": 32.524078,
     "end_time": "2023-08-26T07:35:46.957676",
     "exception": false,
     "start_time": "2023-08-26T07:35:14.433598",
     "status": "completed"
    },
    "tags": []
   },
   "outputs": [
    {
     "name": "stderr",
     "output_type": "stream",
     "text": [
      "[Stage 20:>                                                         (0 + 1) / 1]\r"
     ]
    },
    {
     "name": "stdout",
     "output_type": "stream",
     "text": [
      "+--------------+-------+\n",
      "|acc_now_delinq|  count|\n",
      "+--------------+-------+\n",
      "|           1.0|   8290|\n",
      "|           0.0|2249817|\n",
      "|          14.0|      1|\n",
      "|           5.0|      3|\n",
      "|           6.0|      2|\n",
      "|           4.0|     11|\n",
      "|           7.0|      1|\n",
      "|           2.0|    421|\n",
      "|           3.0|     50|\n",
      "+--------------+-------+\n",
      "\n"
     ]
    },
    {
     "name": "stderr",
     "output_type": "stream",
     "text": [
      "                                                                                \r"
     ]
    }
   ],
   "source": [
    "df.groupby('acc_now_delinq').count()\\\n",
    ".show()"
   ]
  },
  {
   "cell_type": "code",
   "execution_count": 16,
   "id": "8302a1a6",
   "metadata": {
    "execution": {
     "iopub.execute_input": "2023-08-26T07:35:47.047428Z",
     "iopub.status.busy": "2023-08-26T07:35:47.047004Z",
     "iopub.status.idle": "2023-08-26T07:35:47.141915Z",
     "shell.execute_reply": "2023-08-26T07:35:47.140693Z"
    },
    "papermill": {
     "duration": 0.143958,
     "end_time": "2023-08-26T07:35:47.146056",
     "exception": false,
     "start_time": "2023-08-26T07:35:47.002098",
     "status": "completed"
    },
    "tags": []
   },
   "outputs": [],
   "source": [
    "# Define the valid values for 'acc_now_delinq'\n",
    "valid_values = [0, 1, 2, 3, 4, 5, 6, 7, 8, 9, 10]\n",
    "\n",
    "# Modify the 'acc_now_delinq' column:\n",
    "# 1. Cast the column to IntegerType\n",
    "# 2. Set values greater than or equal to 4 to 4, and keep other valid values as they are\n",
    "df = df.withColumn('acc_now_delinq', col('acc_now_delinq').cast('int')) \\\n",
    "       .withColumn('acc_now_delinq', when(col('acc_now_delinq') >= 4, 4).otherwise(col('acc_now_delinq'))) \\\n",
    "       .filter(col('acc_now_delinq').isin(valid_values))"
   ]
  },
  {
   "cell_type": "code",
   "execution_count": 17,
   "id": "60fe6f5e",
   "metadata": {
    "execution": {
     "iopub.execute_input": "2023-08-26T07:35:47.235242Z",
     "iopub.status.busy": "2023-08-26T07:35:47.234544Z",
     "iopub.status.idle": "2023-08-26T07:36:20.156495Z",
     "shell.execute_reply": "2023-08-26T07:36:20.155073Z"
    },
    "papermill": {
     "duration": 33.013729,
     "end_time": "2023-08-26T07:36:20.202823",
     "exception": false,
     "start_time": "2023-08-26T07:35:47.189094",
     "status": "completed"
    },
    "tags": []
   },
   "outputs": [
    {
     "name": "stderr",
     "output_type": "stream",
     "text": [
      "[Stage 23:>                                                         (0 + 1) / 1]\r"
     ]
    },
    {
     "name": "stdout",
     "output_type": "stream",
     "text": [
      "+--------------+-------+\n",
      "|acc_now_delinq|  count|\n",
      "+--------------+-------+\n",
      "|             1|   8290|\n",
      "|             3|     50|\n",
      "|             4|     18|\n",
      "|             2|    421|\n",
      "|             0|2249817|\n",
      "+--------------+-------+\n",
      "\n"
     ]
    },
    {
     "name": "stderr",
     "output_type": "stream",
     "text": [
      "                                                                                \r"
     ]
    }
   ],
   "source": [
    "df.groupby('acc_now_delinq').count()\\\n",
    ".show()"
   ]
  },
  {
   "cell_type": "markdown",
   "id": "359baa32",
   "metadata": {
    "papermill": {
     "duration": 0.042044,
     "end_time": "2023-08-26T07:36:20.287066",
     "exception": false,
     "start_time": "2023-08-26T07:36:20.245022",
     "status": "completed"
    },
    "tags": []
   },
   "source": [
    "## 'application_type'"
   ]
  },
  {
   "cell_type": "code",
   "execution_count": 18,
   "id": "6e07e8b5",
   "metadata": {
    "execution": {
     "iopub.execute_input": "2023-08-26T07:36:20.371996Z",
     "iopub.status.busy": "2023-08-26T07:36:20.371477Z",
     "iopub.status.idle": "2023-08-26T07:36:53.157375Z",
     "shell.execute_reply": "2023-08-26T07:36:53.156019Z"
    },
    "papermill": {
     "duration": 32.874433,
     "end_time": "2023-08-26T07:36:53.204606",
     "exception": false,
     "start_time": "2023-08-26T07:36:20.330173",
     "status": "completed"
    },
    "tags": []
   },
   "outputs": [
    {
     "name": "stderr",
     "output_type": "stream",
     "text": [
      "[Stage 26:>                                                         (0 + 1) / 1]\r"
     ]
    },
    {
     "name": "stdout",
     "output_type": "stream",
     "text": [
      "+----------------+-------+\n",
      "|application_type|  count|\n",
      "+----------------+-------+\n",
      "|       Joint App| 118999|\n",
      "|      Individual|2139597|\n",
      "+----------------+-------+\n",
      "\n"
     ]
    },
    {
     "name": "stderr",
     "output_type": "stream",
     "text": [
      "                                                                                \r"
     ]
    }
   ],
   "source": [
    "df.groupby('application_type').count()\\\n",
    ".show()"
   ]
  },
  {
   "cell_type": "code",
   "execution_count": 19,
   "id": "3829ded1",
   "metadata": {
    "execution": {
     "iopub.execute_input": "2023-08-26T07:36:53.292945Z",
     "iopub.status.busy": "2023-08-26T07:36:53.292541Z",
     "iopub.status.idle": "2023-08-26T07:36:53.367193Z",
     "shell.execute_reply": "2023-08-26T07:36:53.365811Z"
    },
    "papermill": {
     "duration": 0.122338,
     "end_time": "2023-08-26T07:36:53.370882",
     "exception": false,
     "start_time": "2023-08-26T07:36:53.248544",
     "status": "completed"
    },
    "tags": []
   },
   "outputs": [],
   "source": [
    "# Define the valid values for 'application_type'\n",
    "valid_values = ['Joint App', 'Individual']\n",
    "\n",
    "# Modify the 'application_type' column:\n",
    "# 1. Map 'Joint App' to 0 and 'Individual' to 1\n",
    "# 2. Remove other values\n",
    "# 3. Cast the column to IntegerType\n",
    "\n",
    "df = df.withColumn('application_type',\n",
    "                   when(col('application_type') == 'Joint App', 0)\n",
    "                   .when(col('application_type') == 'Individual', 1)\n",
    "                   .otherwise(None))\n",
    "\n",
    "df = df.filter(col('application_type').isNotNull()).withColumn('application_type', col('application_type').cast('int'))"
   ]
  },
  {
   "cell_type": "markdown",
   "id": "a9219455",
   "metadata": {
    "papermill": {
     "duration": 0.045968,
     "end_time": "2023-08-26T07:36:53.461994",
     "exception": false,
     "start_time": "2023-08-26T07:36:53.416026",
     "status": "completed"
    },
    "tags": []
   },
   "source": [
    "## 'grade'"
   ]
  },
  {
   "cell_type": "code",
   "execution_count": 20,
   "id": "068e856d",
   "metadata": {
    "execution": {
     "iopub.execute_input": "2023-08-26T07:36:53.528617Z",
     "iopub.status.busy": "2023-08-26T07:36:53.528115Z",
     "iopub.status.idle": "2023-08-26T07:37:26.534095Z",
     "shell.execute_reply": "2023-08-26T07:37:26.532964Z"
    },
    "papermill": {
     "duration": 33.086111,
     "end_time": "2023-08-26T07:37:26.581405",
     "exception": false,
     "start_time": "2023-08-26T07:36:53.495294",
     "status": "completed"
    },
    "tags": []
   },
   "outputs": [
    {
     "name": "stderr",
     "output_type": "stream",
     "text": [
      "[Stage 29:>                                                         (0 + 1) / 1]\r"
     ]
    },
    {
     "name": "stdout",
     "output_type": "stream",
     "text": [
      "+-----+------+\n",
      "|grade| count|\n",
      "+-----+------+\n",
      "|    F| 41758|\n",
      "|    E|135506|\n",
      "|    B|663013|\n",
      "|    D|324042|\n",
      "|    C|649471|\n",
      "|    A|432662|\n",
      "|    G| 12144|\n",
      "+-----+------+\n",
      "\n"
     ]
    },
    {
     "name": "stderr",
     "output_type": "stream",
     "text": [
      "                                                                                \r"
     ]
    }
   ],
   "source": [
    "df.groupby('grade').count()\\\n",
    ".show()"
   ]
  },
  {
   "cell_type": "code",
   "execution_count": 21,
   "id": "094503be",
   "metadata": {
    "execution": {
     "iopub.execute_input": "2023-08-26T07:37:26.673077Z",
     "iopub.status.busy": "2023-08-26T07:37:26.672564Z",
     "iopub.status.idle": "2023-08-26T07:37:59.765027Z",
     "shell.execute_reply": "2023-08-26T07:37:59.762137Z"
    },
    "papermill": {
     "duration": 33.170372,
     "end_time": "2023-08-26T07:37:59.797027",
     "exception": false,
     "start_time": "2023-08-26T07:37:26.626655",
     "status": "completed"
    },
    "tags": []
   },
   "outputs": [
    {
     "name": "stderr",
     "output_type": "stream",
     "text": [
      "                                                                                \r"
     ]
    }
   ],
   "source": [
    "# Create a StringIndexer to convert 'grade' column into numerical indices\n",
    "grade_indexer = StringIndexer(inputCol=\"grade\", outputCol=\"grade_index\", stringOrderType=\"alphabetAsc\")\n",
    "\n",
    "df = grade_indexer\\\n",
    ".fit(df)\\\n",
    ".transform(df)\\\n",
    ".drop('grade')"
   ]
  },
  {
   "cell_type": "markdown",
   "id": "101356f5",
   "metadata": {
    "papermill": {
     "duration": 0.030421,
     "end_time": "2023-08-26T07:37:59.858637",
     "exception": false,
     "start_time": "2023-08-26T07:37:59.828216",
     "status": "completed"
    },
    "tags": []
   },
   "source": [
    "## One Hot Encoder"
   ]
  },
  {
   "cell_type": "code",
   "execution_count": 22,
   "id": "53c7f076",
   "metadata": {
    "execution": {
     "iopub.execute_input": "2023-08-26T07:37:59.921787Z",
     "iopub.status.busy": "2023-08-26T07:37:59.921356Z",
     "iopub.status.idle": "2023-08-26T07:40:47.667600Z",
     "shell.execute_reply": "2023-08-26T07:40:47.666548Z"
    },
    "papermill": {
     "duration": 167.820658,
     "end_time": "2023-08-26T07:40:47.710077",
     "exception": false,
     "start_time": "2023-08-26T07:37:59.889419",
     "status": "completed"
    },
    "tags": []
   },
   "outputs": [
    {
     "name": "stderr",
     "output_type": "stream",
     "text": [
      "                                                                                \r"
     ]
    }
   ],
   "source": [
    "columns_to_encode = ['purpose', 'addr_state', 'home_ownership', 'initial_list_status']\n",
    "\n",
    "for column in columns_to_encode:\n",
    "    df = one_hot_encode_column(df, column)"
   ]
  },
  {
   "cell_type": "markdown",
   "id": "e6625871",
   "metadata": {
    "papermill": {
     "duration": 0.033768,
     "end_time": "2023-08-26T07:40:47.774848",
     "exception": false,
     "start_time": "2023-08-26T07:40:47.741080",
     "status": "completed"
    },
    "tags": []
   },
   "source": [
    "## Cast to float type"
   ]
  },
  {
   "cell_type": "code",
   "execution_count": 23,
   "id": "15b1df1f",
   "metadata": {
    "execution": {
     "iopub.execute_input": "2023-08-26T07:40:47.840049Z",
     "iopub.status.busy": "2023-08-26T07:40:47.839662Z",
     "iopub.status.idle": "2023-08-26T07:40:48.090574Z",
     "shell.execute_reply": "2023-08-26T07:40:48.089567Z"
    },
    "papermill": {
     "duration": 0.287236,
     "end_time": "2023-08-26T07:40:48.093806",
     "exception": false,
     "start_time": "2023-08-26T07:40:47.806570",
     "status": "completed"
    },
    "tags": []
   },
   "outputs": [],
   "source": [
    "columns_to_cast = [ 'installment',\n",
    "                   'int_rate',\n",
    "                    'loan_amnt',\n",
    "                    'annual_inc',\n",
    "                    'dti',\n",
    "                    'tax_liens',\n",
    "                    'delinq_amnt',\n",
    "                    'policy_code',\n",
    "                    'last_fico_range_high',\n",
    "                    'last_fico_range_low',\n",
    "                    'recoveries',\n",
    "                    'collection_recovery_fee'\n",
    "]\n",
    "\n",
    "# cast to float\n",
    "for column_name in columns_to_cast:\n",
    "    df = df.withColumn(column_name, col(column_name).cast('float'))"
   ]
  },
  {
   "cell_type": "code",
   "execution_count": 24,
   "id": "6892cede",
   "metadata": {
    "execution": {
     "iopub.execute_input": "2023-08-26T07:40:48.175430Z",
     "iopub.status.busy": "2023-08-26T07:40:48.174996Z",
     "iopub.status.idle": "2023-08-26T07:40:48.193354Z",
     "shell.execute_reply": "2023-08-26T07:40:48.192111Z"
    },
    "papermill": {
     "duration": 0.056014,
     "end_time": "2023-08-26T07:40:48.196332",
     "exception": false,
     "start_time": "2023-08-26T07:40:48.140318",
     "status": "completed"
    },
    "tags": []
   },
   "outputs": [
    {
     "data": {
      "text/plain": [
       "[('id', 'string'),\n",
       " ('term', 'int'),\n",
       " ('acc_now_delinq', 'int'),\n",
       " ('annual_inc', 'float'),\n",
       " ('application_type', 'int'),\n",
       " ('dti', 'float'),\n",
       " ('installment', 'float'),\n",
       " ('int_rate', 'float'),\n",
       " ('loan_amnt', 'float'),\n",
       " ('loan_status', 'string'),\n",
       " ('tax_liens', 'float'),\n",
       " ('delinq_amnt', 'float'),\n",
       " ('policy_code', 'float'),\n",
       " ('last_fico_range_high', 'float'),\n",
       " ('last_fico_range_low', 'float'),\n",
       " ('recoveries', 'float'),\n",
       " ('collection_recovery_fee', 'float'),\n",
       " ('verification_status_encoded', 'int'),\n",
       " ('grade_index', 'double'),\n",
       " ('purpose_encoded', 'vector'),\n",
       " ('addr_state_encoded', 'vector'),\n",
       " ('home_ownership_encoded', 'vector'),\n",
       " ('initial_list_status_encoded', 'vector')]"
      ]
     },
     "execution_count": 24,
     "metadata": {},
     "output_type": "execute_result"
    }
   ],
   "source": [
    "df.dtypes"
   ]
  },
  {
   "cell_type": "markdown",
   "id": "606d1cb3",
   "metadata": {
    "papermill": {
     "duration": 0.031933,
     "end_time": "2023-08-26T07:40:48.263349",
     "exception": false,
     "start_time": "2023-08-26T07:40:48.231416",
     "status": "completed"
    },
    "tags": []
   },
   "source": [
    "## 'loan_status' -> target"
   ]
  },
  {
   "cell_type": "code",
   "execution_count": 25,
   "id": "86cf2fb4",
   "metadata": {
    "execution": {
     "iopub.execute_input": "2023-08-26T07:40:48.328597Z",
     "iopub.status.busy": "2023-08-26T07:40:48.327784Z",
     "iopub.status.idle": "2023-08-26T07:41:21.828780Z",
     "shell.execute_reply": "2023-08-26T07:41:21.827400Z"
    },
    "papermill": {
     "duration": 33.587843,
     "end_time": "2023-08-26T07:41:21.882840",
     "exception": false,
     "start_time": "2023-08-26T07:40:48.294997",
     "status": "completed"
    },
    "tags": []
   },
   "outputs": [
    {
     "name": "stderr",
     "output_type": "stream",
     "text": [
      "[Stage 50:>                                                         (0 + 1) / 1]\r"
     ]
    },
    {
     "name": "stdout",
     "output_type": "stream",
     "text": [
      "+--------------------+-------+\n",
      "|         loan_status|  count|\n",
      "+--------------------+-------+\n",
      "|          Fully Paid|1076218|\n",
      "|             Default|     40|\n",
      "|     In Grace Period|   8427|\n",
      "|Does not meet the...|   1913|\n",
      "|         Charged Off| 268452|\n",
      "|  Late (31-120 days)|  21443|\n",
      "|             Current| 877018|\n",
      "|Does not meet the...|    741|\n",
      "|   Late (16-30 days)|   4344|\n",
      "+--------------------+-------+\n",
      "\n"
     ]
    },
    {
     "name": "stderr",
     "output_type": "stream",
     "text": [
      "                                                                                \r"
     ]
    }
   ],
   "source": [
    "df.groupby('loan_status').count()\\\n",
    ".show()"
   ]
  },
  {
   "cell_type": "code",
   "execution_count": 26,
   "id": "65dccdef",
   "metadata": {
    "execution": {
     "iopub.execute_input": "2023-08-26T07:41:21.962584Z",
     "iopub.status.busy": "2023-08-26T07:41:21.962166Z",
     "iopub.status.idle": "2023-08-26T07:41:22.046352Z",
     "shell.execute_reply": "2023-08-26T07:41:22.045441Z"
    },
    "papermill": {
     "duration": 0.122335,
     "end_time": "2023-08-26T07:41:22.049878",
     "exception": false,
     "start_time": "2023-08-26T07:41:21.927543",
     "status": "completed"
    },
    "tags": []
   },
   "outputs": [],
   "source": [
    "# encode 'loan_status' to 0 - fully paid, 1 - late, 2 - charged off\n",
    "df = df.withColumn(\"target\",\n",
    "                   when(col(\"loan_status\") == \"Fully Paid\", 0)\n",
    "                   .when((col(\"loan_status\") == \"Late (16-30 days)\") | (col(\"loan_status\") == \"Late (31-120 days)\") | (col(\"loan_status\") == \"In Grace Period\"), 1)\n",
    "                   .when((col(\"loan_status\") == \"Charged Off\") | (col(\"loan_status\") == 'Default'), 2)\n",
    "                   .otherwise(None))\\\n",
    ".drop(\"loan_status\")\n",
    "df = df.filter(df.target.isNotNull())"
   ]
  },
  {
   "cell_type": "code",
   "execution_count": 27,
   "id": "decfabfa",
   "metadata": {
    "execution": {
     "iopub.execute_input": "2023-08-26T07:41:22.117857Z",
     "iopub.status.busy": "2023-08-26T07:41:22.117437Z",
     "iopub.status.idle": "2023-08-26T07:41:55.934918Z",
     "shell.execute_reply": "2023-08-26T07:41:55.933706Z"
    },
    "papermill": {
     "duration": 33.897651,
     "end_time": "2023-08-26T07:41:55.981074",
     "exception": false,
     "start_time": "2023-08-26T07:41:22.083423",
     "status": "completed"
    },
    "tags": []
   },
   "outputs": [
    {
     "name": "stderr",
     "output_type": "stream",
     "text": [
      "[Stage 53:>                                                         (0 + 1) / 1]\r"
     ]
    },
    {
     "name": "stdout",
     "output_type": "stream",
     "text": [
      "+------+-------+\n",
      "|target|  count|\n",
      "+------+-------+\n",
      "|     1|  34214|\n",
      "|     2| 268492|\n",
      "|     0|1076218|\n",
      "+------+-------+\n",
      "\n"
     ]
    },
    {
     "name": "stderr",
     "output_type": "stream",
     "text": [
      "                                                                                \r"
     ]
    }
   ],
   "source": [
    "df.groupby('target').count()\\\n",
    ".show()"
   ]
  },
  {
   "cell_type": "markdown",
   "id": "251c8c64",
   "metadata": {
    "papermill": {
     "duration": 0.032875,
     "end_time": "2023-08-26T07:41:56.048212",
     "exception": false,
     "start_time": "2023-08-26T07:41:56.015337",
     "status": "completed"
    },
    "tags": []
   },
   "source": [
    "# Downsampling"
   ]
  },
  {
   "cell_type": "code",
   "execution_count": 28,
   "id": "87385e47",
   "metadata": {
    "execution": {
     "iopub.execute_input": "2023-08-26T07:41:56.114405Z",
     "iopub.status.busy": "2023-08-26T07:41:56.113988Z",
     "iopub.status.idle": "2023-08-26T07:41:56.644343Z",
     "shell.execute_reply": "2023-08-26T07:41:56.643089Z"
    },
    "papermill": {
     "duration": 0.566777,
     "end_time": "2023-08-26T07:41:56.647245",
     "exception": false,
     "start_time": "2023-08-26T07:41:56.080468",
     "status": "completed"
    },
    "tags": []
   },
   "outputs": [],
   "source": [
    "df = df.drop('id')\n",
    "df_downsampled = df.filter(col(\"target\") == 0).sampleBy(\"target\", fractions={0: 0.3}).unionAll(df.filter(col(\"target\") != 0))\n",
    "df_downsampled = df_downsampled.na.drop()"
   ]
  },
  {
   "cell_type": "code",
   "execution_count": 29,
   "id": "a370aacf",
   "metadata": {
    "execution": {
     "iopub.execute_input": "2023-08-26T07:41:56.720602Z",
     "iopub.status.busy": "2023-08-26T07:41:56.720202Z",
     "iopub.status.idle": "2023-08-26T07:43:53.676867Z",
     "shell.execute_reply": "2023-08-26T07:43:53.675689Z"
    },
    "papermill": {
     "duration": 116.994299,
     "end_time": "2023-08-26T07:43:53.680359",
     "exception": false,
     "start_time": "2023-08-26T07:41:56.686060",
     "status": "completed"
    },
    "tags": []
   },
   "outputs": [
    {
     "name": "stderr",
     "output_type": "stream",
     "text": [
      "                                                                                \r"
     ]
    },
    {
     "data": {
      "image/png": "[encoded data removed]",
      "text/plain": [
       "<Figure size 1500x600 with 2 Axes>"
      ]
     },
     "metadata": {},
     "output_type": "display_data"
    }
   ],
   "source": [
    "loan_status_count_original = df.groupby('target').count().toPandas()\n",
    "\n",
    "plt.figure(figsize=(15, 6))\n",
    "\n",
    "# Subplot 1 - Target Distribution before downsampling\n",
    "plt.subplot(1, 3, 1)\n",
    "plt.pie(loan_status_count_original['count'], labels=loan_status_count_original['target'], autopct='%1.1f%%')\n",
    "plt.title('Target Distribution - Original Dataset')\n",
    "\n",
    "# Downsampled dataset\n",
    "loan_status_count_downsampled = df_downsampled.groupby('target').count().toPandas()\n",
    "\n",
    "# Subplot 2 - Target Distribution after downsampling\n",
    "plt.subplot(1, 3, 2)\n",
    "plt.pie(loan_status_count_downsampled['count'], labels=loan_status_count_downsampled['target'], autopct='%1.1f%%')\n",
    "plt.title('Target Distribution - After Downsampling')\n",
    "\n",
    "plt.show()"
   ]
  },
  {
   "cell_type": "markdown",
   "id": "54d19d54",
   "metadata": {
    "papermill": {
     "duration": 0.049768,
     "end_time": "2023-08-26T07:43:53.778634",
     "exception": false,
     "start_time": "2023-08-26T07:43:53.728866",
     "status": "completed"
    },
    "tags": []
   },
   "source": [
    "# VectorAssembler"
   ]
  },
  {
   "cell_type": "code",
   "execution_count": 30,
   "id": "63c2c218",
   "metadata": {
    "execution": {
     "iopub.execute_input": "2023-08-26T07:43:53.857720Z",
     "iopub.status.busy": "2023-08-26T07:43:53.857311Z",
     "iopub.status.idle": "2023-08-26T07:44:28.096605Z",
     "shell.execute_reply": "2023-08-26T07:44:28.095331Z"
    },
    "papermill": {
     "duration": 34.278143,
     "end_time": "2023-08-26T07:44:28.099924",
     "exception": false,
     "start_time": "2023-08-26T07:43:53.821781",
     "status": "completed"
    },
    "tags": []
   },
   "outputs": [
    {
     "name": "stderr",
     "output_type": "stream",
     "text": [
      "23/08/26 07:43:54 WARN package: Truncated the string representation of a plan since it was too large. This behavior can be adjusted by setting 'spark.sql.debug.maxToStringFields'.\n",
      "                                                                                \r"
     ]
    },
    {
     "name": "stdout",
     "output_type": "stream",
     "text": [
      "+--------------------+------+\n",
      "|   features_to_scale|target|\n",
      "+--------------------+------+\n",
      "|(86,[0,2,3,4,5,6,...|     0|\n",
      "|(86,[0,2,3,4,5,6,...|     0|\n",
      "|(86,[0,2,3,4,5,6,...|     0|\n",
      "|(86,[0,2,3,4,5,6,...|     0|\n",
      "|(86,[0,2,3,4,5,6,...|     0|\n",
      "+--------------------+------+\n",
      "only showing top 5 rows\n",
      "\n"
     ]
    }
   ],
   "source": [
    "all_columns = df_downsampled.columns\n",
    "feature_cols = [col_name for col_name in all_columns if col_name != 'target']\n",
    "\n",
    "target = ['target']\n",
    "assembler = VectorAssembler(inputCols=feature_cols, outputCol=\"features_to_scale\")\n",
    "\n",
    "df_downsampled = assembler.transform(df_downsampled)\n",
    "\n",
    "df_downsampled\\\n",
    ".select('features_to_scale', 'target')\\\n",
    ".show(5)"
   ]
  },
  {
   "cell_type": "markdown",
   "id": "be503036",
   "metadata": {
    "papermill": {
     "duration": 0.034416,
     "end_time": "2023-08-26T07:44:28.168985",
     "exception": false,
     "start_time": "2023-08-26T07:44:28.134569",
     "status": "completed"
    },
    "tags": []
   },
   "source": [
    "# MinMaxScaler"
   ]
  },
  {
   "cell_type": "code",
   "execution_count": 31,
   "id": "c65bc9d1",
   "metadata": {
    "execution": {
     "iopub.execute_input": "2023-08-26T07:44:28.244264Z",
     "iopub.status.busy": "2023-08-26T07:44:28.243811Z",
     "iopub.status.idle": "2023-08-26T07:44:28.353860Z",
     "shell.execute_reply": "2023-08-26T07:44:28.352776Z"
    },
    "papermill": {
     "duration": 0.152702,
     "end_time": "2023-08-26T07:44:28.357182",
     "exception": false,
     "start_time": "2023-08-26T07:44:28.204480",
     "status": "completed"
    },
    "tags": []
   },
   "outputs": [],
   "source": [
    "train_data, temp_data = df_downsampled.randomSplit([0.8, 0.2], seed=42)\n",
    "test_data, val_data = temp_data.randomSplit([0.5, 0.5], seed=42)"
   ]
  },
  {
   "cell_type": "code",
   "execution_count": 32,
   "id": "26f14779",
   "metadata": {
    "execution": {
     "iopub.execute_input": "2023-08-26T07:44:28.427911Z",
     "iopub.status.busy": "2023-08-26T07:44:28.427477Z",
     "iopub.status.idle": "2023-08-26T07:50:27.756606Z",
     "shell.execute_reply": "2023-08-26T07:50:27.755175Z"
    },
    "papermill": {
     "duration": 359.36767,
     "end_time": "2023-08-26T07:50:27.759353",
     "exception": false,
     "start_time": "2023-08-26T07:44:28.391683",
     "status": "completed"
    },
    "tags": []
   },
   "outputs": [
    {
     "name": "stderr",
     "output_type": "stream",
     "text": [
      "                                                                                \r"
     ]
    }
   ],
   "source": [
    "train_data = scale_features(train_data, \"features_to_scale\", \"features\")\n",
    "val_data = scale_features(val_data, \"features_to_scale\", \"features\")\n",
    "test_data = scale_features(test_data, \"features_to_scale\", \"features\")"
   ]
  },
  {
   "cell_type": "markdown",
   "id": "29973ec3",
   "metadata": {
    "papermill": {
     "duration": 0.035748,
     "end_time": "2023-08-26T07:50:27.831868",
     "exception": false,
     "start_time": "2023-08-26T07:50:27.796120",
     "status": "completed"
    },
    "tags": []
   },
   "source": [
    "# Models"
   ]
  },
  {
   "cell_type": "code",
   "execution_count": 33,
   "id": "50ea487b",
   "metadata": {
    "execution": {
     "iopub.execute_input": "2023-08-26T07:50:27.904800Z",
     "iopub.status.busy": "2023-08-26T07:50:27.904360Z",
     "iopub.status.idle": "2023-08-26T08:06:51.845368Z",
     "shell.execute_reply": "2023-08-26T08:06:51.844247Z"
    },
    "papermill": {
     "duration": 983.980566,
     "end_time": "2023-08-26T08:06:51.847835",
     "exception": false,
     "start_time": "2023-08-26T07:50:27.867269",
     "status": "completed"
    },
    "tags": []
   },
   "outputs": [
    {
     "name": "stderr",
     "output_type": "stream",
     "text": [
      "23/08/26 07:53:02 WARN InstanceBuilder: Failed to load implementation from:dev.ludovic.netlib.blas.JNIBLAS\n",
      "                                                                                \r"
     ]
    }
   ],
   "source": [
    "lr = LogisticRegression(featuresCol='features', labelCol='target')\n",
    "results_df_lr = evaluate_model(lr, 'LogisticRegression', train_data, val_data, test_data)"
   ]
  },
  {
   "cell_type": "code",
   "execution_count": 34,
   "id": "e4ba62ab",
   "metadata": {
    "execution": {
     "iopub.execute_input": "2023-08-26T08:06:51.931510Z",
     "iopub.status.busy": "2023-08-26T08:06:51.931105Z",
     "iopub.status.idle": "2023-08-26T08:27:39.043652Z",
     "shell.execute_reply": "2023-08-26T08:27:39.042324Z"
    },
    "papermill": {
     "duration": 1247.157885,
     "end_time": "2023-08-26T08:27:39.046647",
     "exception": false,
     "start_time": "2023-08-26T08:06:51.888762",
     "status": "completed"
    },
    "tags": []
   },
   "outputs": [
    {
     "name": "stderr",
     "output_type": "stream",
     "text": [
      "                                                                                \r"
     ]
    }
   ],
   "source": [
    "rf = RandomForestClassifier(featuresCol = 'features', labelCol = 'target')\n",
    "results_df_rf = evaluate_model(rf, 'Random Forest', train_data, val_data, test_data)"
   ]
  },
  {
   "cell_type": "code",
   "execution_count": 35,
   "id": "e87fad3d",
   "metadata": {
    "execution": {
     "iopub.execute_input": "2023-08-26T08:27:39.144795Z",
     "iopub.status.busy": "2023-08-26T08:27:39.143804Z",
     "iopub.status.idle": "2023-08-26T08:48:31.619028Z",
     "shell.execute_reply": "2023-08-26T08:48:31.617844Z"
    },
    "papermill": {
     "duration": 1252.527504,
     "end_time": "2023-08-26T08:48:31.622045",
     "exception": false,
     "start_time": "2023-08-26T08:27:39.094541",
     "status": "completed"
    },
    "tags": []
   },
   "outputs": [
    {
     "name": "stderr",
     "output_type": "stream",
     "text": [
      "                                                                                \r"
     ]
    }
   ],
   "source": [
    "layers = [86, 64, 32, 3]\n",
    "mlp = MultilayerPerceptronClassifier(layers=layers, labelCol=\"target\", featuresCol=\"features\", maxIter=100, seed=123)\n",
    "results_df_mlp = evaluate_model(mlp, 'Neural Network', train_data, val_data, test_data)"
   ]
  },
  {
   "cell_type": "code",
   "execution_count": 36,
   "id": "501e12c0",
   "metadata": {
    "execution": {
     "iopub.execute_input": "2023-08-26T08:48:31.783561Z",
     "iopub.status.busy": "2023-08-26T08:48:31.783174Z",
     "iopub.status.idle": "2023-08-26T08:48:31.799720Z",
     "shell.execute_reply": "2023-08-26T08:48:31.798867Z"
    },
    "papermill": {
     "duration": 0.106852,
     "end_time": "2023-08-26T08:48:31.802818",
     "exception": false,
     "start_time": "2023-08-26T08:48:31.695966",
     "status": "completed"
    },
    "tags": []
   },
   "outputs": [
    {
     "data": {
      "text/html": [
       "<div>\n",
       "<style scoped>\n",
       "    .dataframe tbody tr th:only-of-type {\n",
       "        vertical-align: middle;\n",
       "    }\n",
       "\n",
       "    .dataframe tbody tr th {\n",
       "        vertical-align: top;\n",
       "    }\n",
       "\n",
       "    .dataframe thead th {\n",
       "        text-align: right;\n",
       "    }\n",
       "</style>\n",
       "<table border=\"1\" class=\"dataframe\">\n",
       "  <thead>\n",
       "    <tr style=\"text-align: right;\">\n",
       "      <th></th>\n",
       "      <th>Model</th>\n",
       "      <th>Accuracy (Train)</th>\n",
       "      <th>F1 Score (Train)</th>\n",
       "      <th>Accuracy (Validation)</th>\n",
       "      <th>F1 Score (Validation)</th>\n",
       "      <th>Accuracy (Test)</th>\n",
       "      <th>F1 Score (Test)</th>\n",
       "    </tr>\n",
       "  </thead>\n",
       "  <tbody>\n",
       "    <tr>\n",
       "      <th>0</th>\n",
       "      <td>LogisticRegression</td>\n",
       "      <td>0.881</td>\n",
       "      <td>0.863</td>\n",
       "      <td>0.878</td>\n",
       "      <td>0.859</td>\n",
       "      <td>0.882</td>\n",
       "      <td>0.864</td>\n",
       "    </tr>\n",
       "    <tr>\n",
       "      <th>1</th>\n",
       "      <td>Random Forest</td>\n",
       "      <td>0.870</td>\n",
       "      <td>0.846</td>\n",
       "      <td>0.868</td>\n",
       "      <td>0.843</td>\n",
       "      <td>0.871</td>\n",
       "      <td>0.848</td>\n",
       "    </tr>\n",
       "    <tr>\n",
       "      <th>2</th>\n",
       "      <td>Neural Network</td>\n",
       "      <td>0.863</td>\n",
       "      <td>0.843</td>\n",
       "      <td>0.862</td>\n",
       "      <td>0.841</td>\n",
       "      <td>0.866</td>\n",
       "      <td>0.846</td>\n",
       "    </tr>\n",
       "  </tbody>\n",
       "</table>\n",
       "</div>"
      ],
      "text/plain": [
       "                Model  Accuracy (Train)  F1 Score (Train)  \\\n",
       "0  LogisticRegression             0.881             0.863   \n",
       "1       Random Forest             0.870             0.846   \n",
       "2      Neural Network             0.863             0.843   \n",
       "\n",
       "   Accuracy (Validation)  F1 Score (Validation)  Accuracy (Test)  \\\n",
       "0                  0.878                  0.859            0.882   \n",
       "1                  0.868                  0.843            0.871   \n",
       "2                  0.862                  0.841            0.866   \n",
       "\n",
       "   F1 Score (Test)  \n",
       "0            0.864  \n",
       "1            0.848  \n",
       "2            0.846  "
      ]
     },
     "execution_count": 36,
     "metadata": {},
     "output_type": "execute_result"
    }
   ],
   "source": [
    "final_results_df = pd.concat([results_df_lr, results_df_rf, results_df_mlp], ignore_index=True)\n",
    "final_results_df"
   ]
  }
 ],
 "metadata": {
  "kernelspec": {
   "display_name": "Python 3",
   "language": "python",
   "name": "python3"
  },
  "language_info": {
   "codemirror_mode": {
    "name": "ipython",
    "version": 3
   },
   "file_extension": ".py",
   "mimetype": "text/x-python",
   "name": "python",
   "nbconvert_exporter": "python",
   "pygments_lexer": "ipython3",
   "version": "3.10.12"
  },
  "papermill": {
   "default_parameters": {},
   "duration": 4753.232263,
   "end_time": "2023-08-26T08:48:34.516238",
   "environment_variables": {},
   "exception": null,
   "input_path": "__notebook__.ipynb",
   "output_path": "__notebook__.ipynb",
   "parameters": {},
   "start_time": "2023-08-26T07:29:21.283975",
   "version": "2.4.0"
  }
 },
 "nbformat": 4,
 "nbformat_minor": 5
}
